{
 "cells": [
  {
   "cell_type": "markdown",
   "metadata": {},
   "source": [
    "# CxVISION - Asynchronous Inferences\n",
    "\n",
    "This notebook will guide you in how to deploy the CxVision Model Package from AWS Marketplace through an **asynchronous inference** and the configuration of some services needed to run the solution. \n",
    "\n",
    "At the end of this execution, the architecture will look like this one:\n",
    "\n",
    "<p align=\"center\">\n",
    "  <img src=\"./imgs/asynchronous-inference.png\">\n",
    "</p>"
   ]
  },
  {
   "cell_type": "markdown",
   "metadata": {},
   "source": [
    "## Pre-requisites\n",
    "\n",
    "1. This notebook renders correctly in Jupyter Notebook interface, so please open this notebook from an Amazon SageMaker Notebook Instance or Amazon SageMaker Studio.\n",
    "2. Ensure that IAM role used has `AmazonSageMakerFullAccess`.\n",
    "3. To deploy this ML model successfully, ensure that:\n",
    "   1. You are able to make AWS Marketplace subscriptions and our IAM role has the following permissions:\n",
    "      - `aws-marketplace:ViewSubscriptions`\n",
    "      - `aws-marketplace:Unsubscribe`\n",
    "      - `aws-marketplace:Subscribe`\n",
    "4. Create an Amazon S3 Bucket.\n",
    "5. Create two Amazon SNS topics, for success and failed notifications.\n"
   ]
  },
  {
   "cell_type": "markdown",
   "metadata": {},
   "source": [
    "## Contents\n",
    "\n",
    "1. [Subscribe to the model package](#1.-Subscribe-to-the-model-package)\n",
    "2. [Create the model](#2.-Create-the-model)\n",
    "3. [Deploy the model](#Deploy-the-model)\n",
    "4. [Solution configurations](#4.-Solution-configurations)\n",
    "5. [Perform inferences](#5.-Perform-inferences)\n",
    "6. [Visualize results](#6.-Visualize-results)\n",
    "7. [Clean Up your environment](#7.-Clean-Up-your-environment)"
   ]
  },
  {
   "cell_type": "markdown",
   "metadata": {},
   "source": [
    "### 1. Subscribe to the model package\n",
    "\n",
    "1. Open the model package page [\"Customer experience vision\"](https://aws.amazon.com/marketplace/pp/prodview-qraiphwo2242e?ref_=beagle&applicationId=AWS-Sagemaker-Console).\n",
    "2. Click on the **Continue to subscribe** button.\n",
    "3. On the **Subscribe to this software** page, review it and click on **\"Accept Offer\"** if you agree with the EULA, pricing, and support terms.\n",
    "4. Click on **Continue to configuration button** and then select a **region**. The **Product ARN** will be displayed. **This is the model package ARN that you need to specify while creating a deployable model using Boto3.**\n"
   ]
  },
  {
   "cell_type": "markdown",
   "metadata": {},
   "source": [
    "### 2. Create the model\n",
    "\n",
    "Create the model using the ARN of the CXVision Model Package"
   ]
  },
  {
   "cell_type": "code",
   "execution_count": null,
   "metadata": {},
   "outputs": [],
   "source": [
    "from sagemaker import ModelPackage\n",
    "\n",
    "sagemaker_role = '<YourSageMakerRole>' # Replace with your IAM Role for Sage Maker\n",
    "sagemaker_model_package_arn = '<ModelPackageARN>' # Replace this with your subcribed model package ARN\n",
    "\n",
    "model = ModelPackage(role=sagemaker_role, \n",
    "                     model_package_arn=sagemaker_model_package_arn)"
   ]
  },
  {
   "cell_type": "markdown",
   "metadata": {},
   "source": [
    "### 3. Deploy the model\n",
    "The following cell deploys an asynchronous endpoint.\n",
    "\n",
    "> Please, replace the params according to your case."
   ]
  },
  {
   "cell_type": "code",
   "execution_count": null,
   "metadata": {},
   "outputs": [],
   "source": [
    "import sagemaker\n",
    "import uuid\n",
    "\n",
    "instance_type='<InstanceType>' # Replace with your instance type. Supported instances types: ml.g4dn.xlarge, ml.g4dn.2xlarge, ml.g4dn.4xlarge, ml.g4dn.8xlarge, ml.g4dn.12xlarge\n",
    "bucket = '<YourBucketName>'    # Replace with your bucket name.\n",
    "output_key = '<OutputFolderKey>' # Replace with your bucket output folder.\n",
    "success_topic_arn = '<YourSuccessTopicArn>' # Replace with your success SNS Topic ARN\n",
    "error_topic_arn = '<YourEuccessTopicArn>'   # Replace with your error SNS Topic ARN\n",
    "\n",
    "job_name='cxvision'\n",
    "initial_instance_count=1  \n",
    "endpoint_name = '{}-{}'.format(job_name,str(uuid.uuid4()))\n",
    "\n",
    "predictor = model.deploy(\n",
    "    initial_instance_count=initial_instance_count,\n",
    "    instance_type=instance_type,\n",
    "    endpoint_name=endpoint_name,\n",
    "    async_inference_config=sagemaker.async_inference.AsyncInferenceConfig(\n",
    "        output_path=f\"s3://{bucket}/{output_key}\",\n",
    "        max_concurrent_invocations_per_instance=1,\n",
    "        notification_config={\n",
    "            'SuccessTopic': success_topic_arn,\n",
    "            'ErrorTopic': error_topic_arn,\n",
    "        }\n",
    "    )\n",
    ")"
   ]
  },
  {
   "cell_type": "markdown",
   "metadata": {},
   "source": [
    "### 4. Solution configurations"
   ]
  },
  {
   "cell_type": "markdown",
   "metadata": {},
   "source": [
    "#### 4.1 Define video areas and zones\n",
    "Please, follow the instructions in the [Define Areas Notebook](./DefineAreas.ipynb) to create the object areas and zones of the videos you will process with the solution. "
   ]
  },
  {
   "cell_type": "markdown",
   "metadata": {},
   "source": [
    "#### 4.2 Provision AWS Resources\n",
    "\n",
    "It's necessary to create the resources specified in the previous diagram. So, please create the stack using the following CloudFormation template:\n",
    "\n",
    " [![Launch Stack](https://cdn.rawgit.com/buildkite/cloudformation-launch-stack-button-svg/master/launch-stack.svg)](https://console.aws.amazon.com/cloudformation/home#/stacks/new?stackName=buildkite&templateURL=https://s3.amazonaws.com/my-great-stack.json)\n",
    "\n",
    " > Remember specify as parameter the **endpoint name** (name of the previously deployed endpoint) and the **areas object** (created in the step 3.1 with de Define Areas Notebook)\n"
   ]
  },
  {
   "cell_type": "markdown",
   "metadata": {},
   "source": [
    "\n",
    "The following resources are created using the cloudformation template:\n",
    "\n",
    "- **Lambda function (Enqueue videos)**: this function is invoked through an Amazon S3 trigger when a new video is uploaded to a specific Bucket path. The function is in charge of building the payload of the requests to be processed in the endpoint asynchronously, then each request is queued in the FIFO queue and the endpoint is immediately invoked with the first request if the FIFO queue is empty.\n",
    "- **Lambda function (Invoke endpoint)**: this function is invoked when the asynchronous endpoint completes the execution of a video successfully, sending a success notification to a defined SNS topic. When the function starts, it gets the next request from the FIFO queue and invokes the endpoint with the next video.\n",
    "- **Lambda function (Cut videos)**: this function fetches a video from an Amazon S3 Bucket, cuts it into fragments of a certain length and finally uploads them to the Amazon S3 Bucket path that will queue the videos in the FIFO queue. The execution of this function is optional, the customer can define its own method of uploading videos to Amazon S3. \n",
    "- **S3 Bucket**: an S3 Bucket will be created. In this bucket will be configured all the lambda triggers, also this Bucket will be the input source and the target bucket to processed videos.\n",
    "- **SQS FIFO Queue**: each of the videos to be processed in sequence by the asynchronous endpoint will be uploaded to this queue.\n",
    "\n"
   ]
  },
  {
   "cell_type": "markdown",
   "metadata": {},
   "source": [
    "### 5. Perform inferences\n",
    "\n",
    "To start the inferences, you must upload the videos to the path of the Amazon S3 bucket defined in the CloudFormation template. To specify the area of the video, you must name the video as follows:\n",
    "\n",
    "```\n",
    "{video_name}_area_{area_name}.mp4\n",
    "```\n",
    "\n",
    "*  video_name: Name of the video.\n",
    "*  area_name: Indicates which area that video belongs to. The area must correspond to one of the areas defined in the object created in the step [3.1 Define video areas and zones](#3.1-Define-video-areas-and-zones)\n",
    "\n",
    "**Example:**\n",
    "If the video has the following name `example_area_restaurant.mp4`, the zones specified for the **restaurant area** will be taken into account.\n",
    "\n",
    "Once the videos are uploaded to Amazon S3, they will be queued and subsequently processed by the model.\n"
   ]
  },
  {
   "cell_type": "markdown",
   "metadata": {},
   "source": [
    "### 6. Visualize results\n",
    "\n",
    "The results of each video will be uploaded to the path specified in the payload. The results consist of two files:\n",
    "\n",
    "1. Processed video with the detections of people, times in each zone and count of these.\n",
    "2. Text file in the form of logs with the metrics generated during each frame processed in the video. This txt file contains the following properties:\n",
    "\n",
    "```\n",
    "Frame 59 - 2022-12-01 13:07:02.127757. Metric_data: total_detections * 6 * video * maki_japan.mp4 * dwell_detections * 3 * dwell_ids * 1,2,4 * dwell_time * 1,1,1 * service_detections * 3 * service_ids * 3,5,6 * service_time * 1,1,1\n",
    "```\n"
   ]
  },
  {
   "cell_type": "markdown",
   "metadata": {},
   "source": [
    "### 7. Clean Up your environment"
   ]
  },
  {
   "cell_type": "markdown",
   "metadata": {},
   "source": [
    "#### 1. Delete the model and endpoint"
   ]
  },
  {
   "cell_type": "code",
   "execution_count": null,
   "metadata": {},
   "outputs": [],
   "source": [
    "predictor.delete_endpoint(delete_endpoint_config=True)\n",
    "model.delete_model()"
   ]
  },
  {
   "cell_type": "markdown",
   "metadata": {},
   "source": [
    "#### 2. Unsubscribe (optional)\n",
    "\n",
    "1. Ensure that you do not have a [running model](https://console.aws.amazon.com/sagemaker/home#/models).\n",
    "2. Go to __Machine Learning__ tab on [Your Software Subscriptions](https://aws.amazon.com/marketplace/ai/library?productType=ml&ref_=mlmp_gitdemo_indust) page.\n",
    "2. Locate the listing that you want to cancel the subscription for and then choose __Cancel Subscription__."
   ]
  },
  {
   "cell_type": "markdown",
   "metadata": {},
   "source": []
  }
 ],
 "metadata": {
  "kernelspec": {
   "display_name": "Python 3.10.1 64-bit",
   "language": "python",
   "name": "python3"
  },
  "language_info": {
   "codemirror_mode": {
    "name": "ipython",
    "version": 3
   },
   "file_extension": ".py",
   "mimetype": "text/x-python",
   "name": "python",
   "nbconvert_exporter": "python",
   "pygments_lexer": "ipython3",
   "version": "3.10.1"
  },
  "orig_nbformat": 4,
  "vscode": {
   "interpreter": {
    "hash": "2b7c52bd8ad02206de645265cab3458653dd72da6782bfda53779bacacfdc4b4"
   }
  }
 },
 "nbformat": 4,
 "nbformat_minor": 2
}
