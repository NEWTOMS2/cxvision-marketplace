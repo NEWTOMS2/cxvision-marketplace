{
 "cells": [
  {
   "cell_type": "markdown",
   "metadata": {},
   "source": [
    "# CxVISION - RealTime Inferences\n",
    "\n",
    "This notebook will guide you in how to deploy the CxVision Model Package from AWS Marketplace through a **real-time inference**. At the end of this execution, the architecture will look like this one:\n",
    "\n",
    "![Asynchronous-Inference.png](./imgs/asynchronous-inference.png)"
   ]
  },
  {
   "cell_type": "markdown",
   "metadata": {},
   "source": [
    "## Usage instructions\n",
    "\n",
    "Run this Jupyter notebook one cell a time and press `Shift+Enter` to run each consecutive cell."
   ]
  },
  {
   "cell_type": "markdown",
   "metadata": {},
   "source": [
    "## Pre-requisites\n",
    "\n",
    "1. This notebook renders correctly in Jupyter Notebook interface, so please open this notebook from an Amazon SageMaker Notebook Instance or Amazon SageMaker Studio.\n",
    "2. Ensure that IAM role used has `AmazonSageMakerFullAccess`.\n",
    "3. To deploy this ML model successfully, ensure that:\n",
    "   1. You are able to make AWS Marketplace subscriptions and our IAM role has the following permissions:\n",
    "      - `aws-marketplace:ViewSubscriptions`\n",
    "      - `aws-marketplace:Unsubscribe`\n",
    "      - `aws-marketplace:Subscribe`\n",
    "4. Create an Amazon S3 Bucket and upload the videos you want to process with the solution"
   ]
  },
  {
   "cell_type": "markdown",
   "metadata": {},
   "source": [
    "## Contents\n",
    "\n",
    "1. [Subscribe to the model package](#1.-Subscribe-to-the-model-package)\n",
    "2. [Create the model](#2.-Create-the-model)\n",
    "3. [Deploy the model](#3.-Deploy-the-model)\n",
    "4. [Perform inferences](#5.-Perform-inferences)\n",
    "5. [Visualize results](#6.-Visualize-results)\n",
    "6. [Clean Up your environment](#7.-Clean-Up-your-environment)"
   ]
  },
  {
   "cell_type": "markdown",
   "metadata": {},
   "source": [
    "### 1. Subscribe to the model package\n",
    "\n",
    "1. Open the model package page [\"Customer experience vision\"](https://aws.amazon.com/marketplace/pp/prodview-qraiphwo2242e?ref_=beagle&applicationId=AWS-Sagemaker-Console).\n",
    "2. Click on the **Continue to subscribe** button.\n",
    "3. On the **Subscribe to this software** page, review it and click on **\"Accept Offer\"** if you agree with the EULA, pricing, and support terms.\n",
    "4. Click on **Continue to configuration button** and then select a **region**. The **Product ARN** will be displayed. **This is the model package ARN that you need to specify while creating a deployable model using Boto3.**\n"
   ]
  },
  {
   "cell_type": "markdown",
   "metadata": {},
   "source": [
    "### 2. Create the model\n",
    "\n",
    "Create the model using the ARN of the CXVision Model Package"
   ]
  },
  {
   "cell_type": "code",
   "execution_count": null,
   "metadata": {},
   "outputs": [],
   "source": [
    "from sagemaker import ModelPackage\n",
    "\n",
    "sagemaker_role = '<YourSageMakerRole>' # Replace with your IAM Role for Sage Maker\n",
    "sagemaker_model_package_arn = '<ModelPackageARN>' # Replace this with your subcribed model package ARN\n",
    "\n",
    "model = ModelPackage(role=sagemaker_role, \n",
    "                     model_package_arn=sagemaker_model_package_arn)"
   ]
  },
  {
   "cell_type": "markdown",
   "metadata": {},
   "source": [
    "### 3. Deploy the model\n",
    "The following cell deploys the created model on realtime endpoint.\n",
    "\n",
    "> Please, replace with your instance type. Supported instances types: ml.g4dn.xlarge, ml.g4dn.2xlarge, ml.g4dn.4xlarge, ml.g4dn.8xlarge, ml.g4dn.12xlarge"
   ]
  },
  {
   "cell_type": "code",
   "execution_count": null,
   "metadata": {},
   "outputs": [],
   "source": [
    "import uuid\n",
    "\n",
    "job_name='cxvision'\n",
    "initial_instance_count=1  \n",
    "instance_type='<InstanceType>' \n",
    "endpoint_name = '{}-{}'.format(job_name,str(uuid.uuid4()))\n",
    "\n",
    "predictor = model.deploy(initial_instance_count=initial_instance_count, instance_type=instance_type, endpoint_name=endpoint_name)\n",
    "\n",
    "print('Job Name: {}'.format())\n",
    "print('Initial Instance Count: {}'.format())\n",
    "print('Instance Type: {}'.format())\n",
    "print('Endpoint Name: {}'.format())"
   ]
  },
  {
   "cell_type": "markdown",
   "metadata": {},
   "source": [
    "### 4. Perform inferences\n",
    "To invoke the endpoint in the synchronous mode, please ensure you have uploaded the videos you want to process to an Amazon S3 bucket."
   ]
  },
  {
   "cell_type": "markdown",
   "metadata": {},
   "source": [
    "### 4.1 Create the payload for the endpoint\n",
    "\n",
    "This payload contains some information that will be used for the model to process the files. This object has the following attributes:\n",
    "\n",
    "* **blurring:** `True` if you want to apply blurring on the detected people. Otherwise, it's value must be `False`\n",
    "* **detection_threshold**: Indicates the threshold to consider a detection as valid one. All the detections with the confidence equal or higher of the detection_threshold will be taken. `It must be a float value between 5 and 100.`\n",
    "* **timezone:**  Defines the timezone for processing the videos.\n",
    "* **s3_upload_path:** Amazon S3 folder where the solution will upload the results. \n",
    "* **areas:** Defines the areas and the zones of the videos. Please, see how to define the areas in the [Define Areas Notebook](./DefineAreas.ipynb).\n",
    "* **videos**: A list of videos that will be processed. The `path` of each object need to be an Amazon S3 Path and the `area` must be one of the areas specified in the areas array.\n",
    "\n",
    "Example:\n",
    "\n",
    "```\n",
    "{\n",
    "    \"blurring\": False,\n",
    "    \"detection_threshold\": 50,\n",
    "    \"timezone\": \"America/Caracas\",\n",
    "    \"s3_upload_path\": \"cxvision/videos_out_local\",\n",
    "    \"process_video_quantity\": 0.02,\n",
    "    \"areas\":[\n",
    "        {\n",
    "            \"area\": \"restaurant\",\n",
    "            \"dwell_zone\": \"[(200,500), (500,510), (490,710), (190,700)]\",\n",
    "            \"service_zone\": \"[(540,580), (1000,645), (990,720), (530,655)]\"\n",
    "        }\n",
    "    ],\n",
    "    \"videos\": [\n",
    "        {\n",
    "          \"path\":\"s3://cxvision/videos-in/maki_japan.mp4\",\n",
    "          \"area\":\"restaurant\"\n",
    "        }\n",
    "    ]\n",
    "}\n",
    "```"
   ]
  },
  {
   "cell_type": "code",
   "execution_count": null,
   "metadata": {},
   "outputs": [],
   "source": [
    "import json\n",
    "\n",
    "#Update the object according to your videos\n",
    "payload = {\n",
    "    \"blurring\": False,\n",
    "    \"detection_threshold\": 50,\n",
    "    \"timezone\": \"America/Caracas\",\n",
    "    \"s3_upload_path\": \"cxvision/videos_out_local\",\n",
    "    \"process_video_quantity\": 0.02,\n",
    "    \"areas\":[\n",
    "        {\n",
    "            \"area\": \"your_zone\",\n",
    "            \"dwell_zone\": \"your_dwell_zone\",\n",
    "            \"service_zone\": \"your_service_zone\"\n",
    "        }\n",
    "    ],\n",
    "    \"videos\": [\n",
    "        {\n",
    "          \"path\":\"your_s3_path\",\n",
    "          \"area\":\"your_zone\"\n",
    "        }\n",
    "    ]\n",
    "}\n",
    "\n",
    "payload = json.dumps(payload)"
   ]
  },
  {
   "cell_type": "markdown",
   "metadata": {},
   "source": [
    "### 4.2 Invoke endpoint\n",
    "The following code will invoke the endpoint to process all the videos in the Amazon S3 path, and then will upload the results to the same bucket. "
   ]
  },
  {
   "cell_type": "code",
   "execution_count": null,
   "metadata": {},
   "outputs": [],
   "source": [
    "import json\n",
    "import boto3\n",
    "runtime= boto3.client('runtime.sagemaker')\n",
    "\n",
    "response = runtime.invoke_endpoint(EndpointName=endpoint_name, \n",
    "                                   ContentType='application/json', \n",
    "                                   Body=payload)\n",
    "\n",
    "response = json.loads(response['Body'].read())\n",
    "print(json.dumps(response, indent=4))"
   ]
  },
  {
   "cell_type": "markdown",
   "metadata": {},
   "source": [
    "### 5. Visualize results\n",
    "\n",
    "The results of each video will be uploaded to the path specified in the payload. The results consist of two files:\n",
    "\n",
    "1. Processed video with the detections of people, times in each zone and count of these.\n",
    "2. Text file in the form of logs with the metrics generated during each frame processed in the video. This txt file contains the following properties:\n",
    "\n",
    "```\n",
    "Frame 59 - 2022-12-01 13:07:02.127757. Metric_data: total_detections * 6 * video * maki_japan.mp4 * dwell_detections * 3 * dwell_ids * 1,2,4 * dwell_time * 1,1,1 * service_detections * 3 * service_ids * 3,5,6 * service_time * 1,1,1\n",
    "```"
   ]
  },
  {
   "cell_type": "markdown",
   "metadata": {},
   "source": [
    "### 5. Clean Up your environment:"
   ]
  },
  {
   "cell_type": "markdown",
   "metadata": {},
   "source": [
    "#### 1. Delete the model"
   ]
  },
  {
   "cell_type": "code",
   "execution_count": null,
   "metadata": {},
   "outputs": [],
   "source": [
    "predictor.delete_endpoint(delete_endpoint_config=True)\n",
    "model.delete_model()"
   ]
  },
  {
   "cell_type": "markdown",
   "metadata": {},
   "source": [
    "#### 2. Unsubscribe (optional)\n",
    "\n",
    "1. Ensure that you do not have a [running model](https://console.aws.amazon.com/sagemaker/home#/models).\n",
    "2. Go to __Machine Learning__ tab on [Your Software Subscriptions](https://aws.amazon.com/marketplace/ai/library?productType=ml&ref_=mlmp_gitdemo_indust) page.\n",
    "2. Locate the listing that you want to cancel the subscription for and then choose __Cancel Subscription__."
   ]
  },
  {
   "cell_type": "markdown",
   "metadata": {},
   "source": []
  }
 ],
 "metadata": {
  "kernelspec": {
   "display_name": "Python 3.10.1 64-bit",
   "language": "python",
   "name": "python3"
  },
  "language_info": {
   "codemirror_mode": {
    "name": "ipython",
    "version": 3
   },
   "file_extension": ".py",
   "mimetype": "text/x-python",
   "name": "python",
   "nbconvert_exporter": "python",
   "pygments_lexer": "ipython3",
   "version": "3.10.1"
  },
  "orig_nbformat": 4,
  "vscode": {
   "interpreter": {
    "hash": "2b7c52bd8ad02206de645265cab3458653dd72da6782bfda53779bacacfdc4b4"
   }
  }
 },
 "nbformat": 4,
 "nbformat_minor": 2
}
